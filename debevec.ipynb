{
 "cells": [
  {
   "cell_type": "code",
   "execution_count": 9,
   "metadata": {},
   "outputs": [],
   "source": [
    "from debevec import * "
   ]
  },
  {
   "cell_type": "code",
   "execution_count": 24,
   "metadata": {},
   "outputs": [],
   "source": [
    "def Debevec(path='./data/Test/',out_path='./image/Debevec/Tonemapped/'):\n",
    "    for i in range(1, 16):\n",
    "        folder = os.path.join(path + f\"{i:03}\")\n",
    "        img_paths = list_all_files_sorted(folder, '.tif')\n",
    "        images,times = [], []\n",
    "        for img_path in img_paths:\n",
    "            img = cv2.imread(img_path)\n",
    "            images.append(img)\n",
    "        exposure = os.path.join(folder, \"exposure.txt\")\n",
    "        with open(exposure) as f:\n",
    "            for j in range(3):\n",
    "                time = float(f.readline().strip())\n",
    "                if time == 0:\n",
    "                    time = 0.0000001\n",
    "                times.append(time)\n",
    "        # print(times)\n",
    "        times = np.array(times,dtype=np.float32)\n",
    "\n",
    "        crf = get_crf(images, times)\n",
    "        hdr = get_radiance_map(images, times, crf)\n",
    "        # print(hdr.dtype)\n",
    "        out_file = os.path.join(out_path,  f\"{i:02}.png\")\n",
    "        # # print(hdr)\n",
    "        cv2.imwrite(out_file, 255 * hdr)\n",
    "\n"
   ]
  },
  {
   "cell_type": "code",
   "execution_count": null,
   "metadata": {},
   "outputs": [],
   "source": [
    "Debevec()"
   ]
  }
 ],
 "metadata": {
  "kernelspec": {
   "display_name": "DiffHDR",
   "language": "python",
   "name": "python3"
  },
  "language_info": {
   "codemirror_mode": {
    "name": "ipython",
    "version": 3
   },
   "file_extension": ".py",
   "mimetype": "text/x-python",
   "name": "python",
   "nbconvert_exporter": "python",
   "pygments_lexer": "ipython3",
   "version": "3.9.16"
  }
 },
 "nbformat": 4,
 "nbformat_minor": 2
}
